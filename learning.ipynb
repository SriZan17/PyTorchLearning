{
 "cells": [
  {
   "cell_type": "code",
   "execution_count": 6,
   "metadata": {},
   "outputs": [
    {
     "data": {
      "text/plain": [
       "tensor([[[[0.8407, 0.5258, 0.2749, 0.4275, 0.0529, 0.4338, 0.8397]]]],\n",
       "       device='cuda:0')"
      ]
     },
     "execution_count": 6,
     "metadata": {},
     "output_type": "execute_result"
    }
   ],
   "source": [
    "import torch\n",
    "seed = 1234\n",
    "device = \"cuda\" if torch.cuda.is_available() else \"cpu\"\n",
    "torch.cuda.manual_seed(seed)\n",
    "x = torch.rand(2, 3).to(device)\n",
    "torch.cuda.manual_seed(seed)\n",
    "y = torch.rand(2, 3).to(device).transpose(0, 1)\n",
    "torch.cuda.manual_seed(seed)\n",
    "w = torch.rand(size=(1,1,1,7)).to(device)\n",
    "x = x @ y\n",
    "a = x.argmin()\n",
    "w"
   ]
  }
 ],
 "metadata": {
  "kernelspec": {
   "display_name": "base",
   "language": "python",
   "name": "python3"
  },
  "language_info": {
   "codemirror_mode": {
    "name": "ipython",
    "version": 3
   },
   "file_extension": ".py",
   "mimetype": "text/x-python",
   "name": "python",
   "nbconvert_exporter": "python",
   "pygments_lexer": "ipython3",
   "version": "3.11.5"
  }
 },
 "nbformat": 4,
 "nbformat_minor": 2
}

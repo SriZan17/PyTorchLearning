{
 "cells": [
  {
   "cell_type": "code",
   "execution_count": null,
   "metadata": {},
   "outputs": [],
   "source": []
  },
  {
   "cell_type": "code",
   "execution_count": 1,
   "metadata": {},
   "outputs": [],
   "source": [
    "import torch\n",
    "from torch import nn\n",
    "import matplotlib.pyplot as plt\n",
    "\n",
    "\n",
    "def main():\n",
    "    # Create *known* parameters\n",
    "    weight = 0.7\n",
    "    bias = 0.3\n",
    "    # Create data\n",
    "    start = 0\n",
    "    end = 1\n",
    "    step = 0.02\n",
    "    X = torch.arange(start, end, step).unsqueeze(dim=1)\n",
    "    y = weight * X + bias\n",
    "    X[:10], y[:10]\n",
    "\n",
    "    # Create train/test split\n",
    "    train_split = int(\n",
    "        0.8 * len(X)\n",
    "    )  # 80% of data used for training set, 20% for testing\n",
    "    X_train, y_train = X[:train_split], y[:train_split]\n",
    "    X_test, y_test = X[train_split:], y[train_split:]\n",
    "    len(X_train), len(y_train), len(X_test), len(y_test)\n",
    "    plot_predictions(X_train, y_train, X_test, y_test)\n",
    "\n",
    "\n",
    "def plot_predictions(\n",
    "    train_data,\n",
    "    train_labels,\n",
    "    test_data,\n",
    "    test_labels,\n",
    "    predictions=None,\n",
    "):\n",
    "    \"\"\"\n",
    "    Plots training data, test data and compares predictions.\n",
    "    \"\"\"\n",
    "    plt.figure(figsize=(10, 7))\n",
    "\n",
    "    # Plot training data in blue\n",
    "    plt.scatter(train_data, train_labels, c=\"b\", s=4, label=\"Training data\")\n",
    "\n",
    "    # Plot test data in green\n",
    "    plt.scatter(test_data, test_labels, c=\"g\", s=4, label=\"Testing data\")\n",
    "\n",
    "    if predictions is not None:\n",
    "        # Plot the predictions in red (predictions were made on the test data)\n",
    "        plt.scatter(test_data, predictions, c=\"r\", s=4, label=\"Predictions\")\n",
    "\n",
    "    # Show the legend\n",
    "    plt.legend(prop={\"size\": 14})\n",
    "    plt.show()\n"
   ]
  }
 ],
 "metadata": {
  "kernelspec": {
   "display_name": "base",
   "language": "python",
   "name": "python3"
  },
  "language_info": {
   "codemirror_mode": {
    "name": "ipython",
    "version": 3
   },
   "file_extension": ".py",
   "mimetype": "text/x-python",
   "name": "python",
   "nbconvert_exporter": "python",
   "pygments_lexer": "ipython3",
   "version": "3.11.5"
  }
 },
 "nbformat": 4,
 "nbformat_minor": 2
}
